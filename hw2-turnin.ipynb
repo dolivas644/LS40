{
 "cells": [
  {
   "cell_type": "markdown",
   "metadata": {
    "collapsed": false
   },
   "source": [
    "# Homework 2\n",
    "\n",
    "Name: Diana\n",
    "\n",
    "I collaborated with:"
   ]
  },
  {
   "cell_type": "code",
   "execution_count": 10,
   "metadata": {
    "collapsed": false
   },
   "outputs": [
   ],
   "source": [
    "# Dataset for Homework 1 & 2: Representative dataset of age of first time mothers in USA in 1980 and 2016\n",
    "ages1980 = [23,32,20,27,28,20,29,25,19,19,19,27,27,25,24,18,17,20,22,17,22,20,19,23,16,20,20,15,17,15,15,19,21,25,17,28,18,23,24,24,20,24,23,28,33,25,25,21,24,20,21,25,17,21,24,29,34,22,20,23,23,16,22,24,23,16,22,20,17,27,23,21,16,19,29,25,23,16,19,21,26,26,26,31,17,20,18,21,22,27,30,16,17,21,26,16,31,22,30,21,24,22,23,22,26,27,24,28,27,20,21,20,22,21,33,22,18,28,19,24,26,18,22,14,23,19,17,18,23,29,25,28,18,32,19,21,25,18,18,19,18,23,24,18,21,21,26,26,18,25,19,27,21,27,20,27,19,19,36,22,29,19,26,20,17,17,20,19,25,21,28,31,17,18,29,24,26,19,19,23,16,30,18,28,18,20,31,24,26,22,32,25,18,22,30,19,35,20,15,30]\n",
    "ages2016 = [21,29,41,23,35,16,18,19,26,29,33,19,18,28,21,18,24,31,37,31,27,36,26,23,34,25,22,33,27,26,26,30,32,20,28,20,24,20,22,33,24,20,19,23,19,28,34,33,19,38,31,16,38,19,22,25,31,26,34,21,20,30,27,20,29,14,18,30,31,17,36,33,32,32,19,29,35,28,22,27,34,29,28,22,20,29,33,22,25,26,26,31,30,26,37,34,27,20,21,25,32,18,28,27,35,31,31,26,25,24,30,15,28,26,17,35,27,24,23,20,24,21,31,18,29,24,27,28,20,21,21,32,23,35,39,19,28,30,31,23,21,39,23,32,25,28,36,19,23,17,21,30,27,32,27,22,19,22,28,28,24,32,22,37,21,30,30,23,29,29,\n",
    "18,40,33,27,25,26,22,29,27,30,29,30,25,28,24,23,17,19,36,18,29,22,25,20,20,34,32,21,21,25]"
   ]
  },
  {
   "cell_type": "code",
   "execution_count": 1,
   "metadata": {
    "collapsed": false
   },
   "outputs": [
   ],
   "source": [
    " import numpy as np"
   ]
  },
  {
   "cell_type": "code",
   "execution_count": 0,
   "metadata": {
    "collapsed": false
   },
   "outputs": [
   ],
   "source": [
   ]
  },
  {
   "cell_type": "code",
   "execution_count": 3,
   "metadata": {
    "collapsed": false
   },
   "outputs": [
    {
     "name": "stdout",
     "output_type": "stream",
     "text": [
      "14.25\n"
     ]
    }
   ],
   "source": [
    "#1 1. [2 points] Calculate each statistic below by hand for the dataset [10,15,19,13]. Show your\n",
    "#work (not just a formula). Confirm each with Python (see note above).\n",
    "#a. Standard deviation\n",
    "data_hw2= [10,15,19,13]\n",
    "data_hw2mean=np.mean(data_hw2)\n",
    "print(data_hw2mean)"
   ]
  },
  {
   "cell_type": "code",
   "execution_count": 7,
   "metadata": {
    "collapsed": false
   },
   "outputs": [
    {
     "name": "stdout",
     "output_type": "stream",
     "text": [
      "2.5\n"
     ]
    }
   ],
   "source": [
    "#Question 2#b. Median absolute deviation (confirm in next exercise)\n",
    "def find_MAD(data_list):\n",
    "    abs_dis = []\n",
    "    med_data= np.median(data_list)\n",
    "    for num in data_list:\n",
    "        abs_dis.append(np.abs(num-med_data))\n",
    "    print(np.median(abs_dis))\n",
    "data_hw2=[10,15,19,13]\n",
    "find_MAD(data_hw2)"
   ]
  },
  {
   "cell_type": "code",
   "execution_count": 11,
   "metadata": {
    "collapsed": false,
    "scrolled": true
   },
   "outputs": [
    {
     "name": "stdout",
     "output_type": "stream",
     "text": [
      "20.8975\n"
     ]
    }
   ],
   "source": [
    "#Q3 AGES 1980\n",
    "print(np.var(ages1980))"
   ]
  },
  {
   "cell_type": "code",
   "execution_count": 12,
   "metadata": {
    "collapsed": false
   },
   "outputs": [
    {
     "name": "stdout",
     "output_type": "stream",
     "text": [
      "4.571378347938398\n"
     ]
    }
   ],
   "source": [
    "print(np.std(ages1980))"
   ]
  },
  {
   "cell_type": "code",
   "execution_count": 13,
   "metadata": {
    "collapsed": false
   },
   "outputs": [
    {
     "name": "stdout",
     "output_type": "stream",
     "text": [
      "3.0\n",
      "None\n"
     ]
    }
   ],
   "source": [
    "print(find_MAD(ages1980))"
   ]
  },
  {
   "cell_type": "code",
   "execution_count": 14,
   "metadata": {
    "collapsed": false
   },
   "outputs": [
    {
     "name": "stdout",
     "output_type": "stream",
     "text": [
      "33.6439\n"
     ]
    }
   ],
   "source": [
    "#AGES 2016\n",
    "print(np.var(ages2016))"
   ]
  },
  {
   "cell_type": "code",
   "execution_count": 15,
   "metadata": {
    "collapsed": false
   },
   "outputs": [
    {
     "name": "stdout",
     "output_type": "stream",
     "text": [
      "5.800336197152713\n"
     ]
    }
   ],
   "source": [
    "print(np.std(ages2016))"
   ]
  },
  {
   "cell_type": "code",
   "execution_count": 16,
   "metadata": {
    "collapsed": false
   },
   "outputs": [
    {
     "name": "stdout",
     "output_type": "stream",
     "text": [
      "5.0\n",
      "None\n"
     ]
    }
   ],
   "source": [
    "print(find_MAD(ages2016))"
   ]
  },
  {
   "cell_type": "code",
   "execution_count": 0,
   "metadata": {
    "collapsed": false
   },
   "outputs": [
   ],
   "source": [
    "#part 2\n",
    "#The distributions I would use MAD for when the data is skewed or has really high or low values in the dataset, meanwhile standard deviation can be used when this is not the case because it will be okay at measuring this data.\n",
    "#for example, [2,9,15,64,77] is really skewed so it would need MAD while one that is more consisitent such as [3,4,5,2.5,2.5]. For ages 1980 that has a right skew i would use MAD while ages 2016 that is slighlt more consitient can have either use but MAD may be the better choice."
   ]
  },
  {
   "cell_type": "code",
   "execution_count": 0,
   "metadata": {
    "collapsed": false
   },
   "outputs": [
   ],
   "source": [
    "#q4 \n",
    "#pros:   1) shows a sighnificant difference between both comparisons using the average 2) use of bar chart (good visual) 3) shows sig dif\n",
    "#cons: 1) high confidence level( can lower it to 99 or 95) 2) small sample sizes, can use bigger one size study 3) can use histogram 4) multiple standard errors of mean"
   ]
  },
  {
   "cell_type": "code",
   "execution_count": 0,
   "metadata": {
    "collapsed": false
   },
   "outputs": [
   ],
   "source": [
    "#q5 \n",
    "#a The null hypothesis of this study is H0 >= 0.01\n",
    "#b P-value is an event happening by chance, therefore if the p-value is p=0.01 then there is 1% chance of it happening (1 out of 100). In this case, 1% chance of unpleasant side effects.\n",
    "#c The answer is subjective. According to the resulats and p-value it would be recommended to patients. However it should also be taken into considereation about further tests that show long-term effects and its benefits to individuals with different lifestyles(diet,medication) which can lead to unwanted effets or minimal changes."
   ]
  },
  {
   "cell_type": "code",
   "execution_count": 0,
   "metadata": {
    "collapsed": false
   },
   "outputs": [
   ],
   "source": [
    "#q6 \n",
    "#a. i am given a case of measle outbreak where i am supposed to find the sig dif. between those who got infected while vaccinated and unvaccinated. My goal is to check if there is a statistically significant difference usingf the propartions given of those infected to those in the general population.\n",
    "#1 Total 91% of Californian residents have the measles vaccine. 110 got infected. 49/110 were unvaccinated and 61/110 were vaccinated. Goal: the probablity of an unvaccinated person to get measles compared to someone with the vaccine out of 110 people\n",
    "#2 Null hypothesis is that the vaccine is ineffective and 61/110 that got the measles were out of chance\n",
    "#3 is 9/100 individuals who are unvacc. which shows the 91% of 100\n",
    "#4 110 is sample size (10 random simulations)\n",
    "#b  "
   ]
  },
  {
   "cell_type": "code",
   "execution_count": 17,
   "metadata": {
    "collapsed": false
   },
   "outputs": [
   ],
   "source": [
    "#b \n",
    "import numpy as np\n",
    "import matplotlib.pyplot as plt\n",
    "import seaborn as sns\n",
    "import numpy as np\n",
    "%matplotlib inline\n"
   ]
  },
  {
   "cell_type": "code",
   "execution_count": 26,
   "metadata": {
    "collapsed": false
   },
   "outputs": [
    {
     "data": {
      "text/plain": [
       "<matplotlib.lines.Line2D at 0x7f554c0604f0>"
      ]
     },
     "execution_count": 26,
     "metadata": {
     },
     "output_type": "execute_result"
    },
    {
     "data": {
      "image/png": "[encoded data removed]",
      "text/plain": [
       "<Figure size 360x360 with 1 Axes>"
      ]
     },
     "execution_count": 26,
     "metadata": {
      "image/png": {
       "height": 365,
       "width": 352
      },
      "needs_background": "light"
     },
     "output_type": "execute_result"
    }
   ],
   "source": [
    "UMo = 49/110 #stores percentage of unvaccinated measles observed out of total measles observed\n",
    "Mobs = 110 #stores total measles observed\n",
    "m = ['V']*9100 + ['U']*900 #stores 9100 'V's for 'Vaccinated' and 900 'U's for 'Unvaccinated'\n",
    "mo = np.array(m) #creates a numpy array for the dataset\n",
    "measles = [] #creates an empty array NAMED MEASLES\n",
    "for i in range(10000): #creates a for loop that will run 10000 times\n",
    "    list=np.random.choice(mo, 110) #randomly selects 110 elements from the numpy array and stores them in a list\n",
    "    measles.append(np.sum(list=='U')/Mobs) #gets the amount of 'U's in the list and divides them by the sample size of 110, and appends that to the empty array\n",
    "p=sns.displot(measles, kde=False) #histogram using the measles array\n",
    "p.set(xlabel = \"Unvaccinated Individuals Infected With Measles\") #labels\n",
    "plt.axvline(UMo, color=\"PINK\") #PINK line at the observed unvaccinated measles amount\n",
    "\n"
   ]
  },
  {
   "cell_type": "code",
   "execution_count": 27,
   "metadata": {
    "collapsed": false
   },
   "outputs": [
    {
     "data": {
      "text/plain": [
       "0.0"
      ]
     },
     "execution_count": 27,
     "metadata": {
     },
     "output_type": "execute_result"
    }
   ],
   "source": [
    "t=0 #creates a variable t\n",
    "for i in measles: #iterates through 'measles' array\n",
    "    if i>=UMo: #checks if the value at i is > OR = to the unvaccinated measles observed\n",
    "        t+=1 # adds 1 to the value IF PREVIOUS IS TRUE\n",
    "pVal= t/10000 #divides t by the # of simulations to give us the p value\n",
    "pVal #gives p value"
   ]
  },
  {
   "cell_type": "code",
   "execution_count": 0,
   "metadata": {
    "collapsed": false
   },
   "outputs": [
   ],
   "source": [
    "#6c \n",
    "#No it means that the result is just low occurring such as that there is a small percentage of it happening and to increase the p-value yopu would need a greater sample size."
   ]
  },
  {
   "cell_type": "code",
   "execution_count": 0,
   "metadata": {
    "collapsed": false
   },
   "outputs": [
   ],
   "source": [
    "#6d Due to the p value being less than the 0.05 threshold, would indicate that the null hypothesis is rejected thus we can assume that vaccinations do have an effect and results similar to this case are unlikely to occur again in the small sample size."
   ]
  },
  {
   "cell_type": "code",
   "execution_count": 0,
   "metadata": {
    "collapsed": false
   },
   "outputs": [
   ],
   "source": [
    "#q7 \n",
    "#a "
   ]
  }
 ],
 "metadata": {
  "kernelspec": {
   "display_name": "Python 3 (system-wide)",
   "language": "python",
   "metadata": {
    "cocalc": {
     "description": "Python 3 programming language",
     "priority": 100,
     "url": "https://www.python.org/"
    }
   },
   "name": "python3",
   "resource_dir": "/ext/jupyter/kernels/python3"
  },
  "language_info": {
   "codemirror_mode": {
    "name": "ipython",
    "version": 3
   },
   "file_extension": ".py",
   "mimetype": "text/x-python",
   "name": "python",
   "nbconvert_exporter": "python",
   "pygments_lexer": "ipython3",
   "version": "3.8.10"
  }
 },
 "nbformat": 4,
 "nbformat_minor": 4
}