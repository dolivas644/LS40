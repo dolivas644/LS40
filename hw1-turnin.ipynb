{
 "cells": [
  {
   "cell_type": "markdown",
   "metadata": {
    "collapsed": false
   },
   "source": [
    "# Homework 1\n",
    "\n",
    "Name: Diana Olivas\n",
    "\n",
    "I collaborated with:"
   ]
  },
  {
   "cell_type": "code",
   "execution_count": 1,
   "metadata": {
    "collapsed": false
   },
   "outputs": [
   ],
   "source": [
    "# Dataset for Homework 1: Representative dataset of age of first time mothers in USA in 1980 and 2016\n",
    "ages1980 = [23,32,20,27,28,20,29,25,19,19,19,27,27,25,24,18,17,20,22,17,22,20,19,23,16,20,20,15,17,15,15,19,21,25,17,28,18,23,24,24,20,24,23,28,33,25,25,21,24,20,21,25,17,21,24,29,34,22,20,23,23,16,22,24,23,16,22,20,17,27,23,21,16,19,29,25,23,16,19,21,26,26,26,31,17,20,18,21,22,27,30,16,17,21,26,16,31,22,30,21,24,22,23,22,26,27,24,28,27,20,21,20,22,21,33,22,18,28,19,24,26,18,22,14,23,19,17,18,23,29,25,28,18,32,19,21,25,18,18,19,18,23,24,18,21,21,26,26,18,25,19,27,21,27,20,27,19,19,36,22,29,19,26,20,17,17,20,19,25,21,28,31,17,18,29,24,26,19,19,23,16,30,18,28,18,20,31,24,26,22,32,25,18,22,30,19,35,20,15,30]\n",
    "ages2016 = [21,29,41,23,35,16,18,19,26,29,33,19,18,28,21,18,24,31,37,31,27,36,26,23,34,25,22,33,27,26,26,30,32,20,28,20,24,20,22,33,24,20,19,23,19,28,34,33,19,38,31,16,38,19,22,25,31,26,34,21,20,30,27,20,29,14,18,30,31,17,36,33,32,32,19,29,35,28,22,27,34,29,28,22,20,29,33,22,25,26,26,31,30,26,37,34,27,20,21,25,32,18,28,27,35,31,31,26,25,24,30,15,28,26,17,35,27,24,23,20,24,21,31,18,29,24,27,28,20,21,21,32,23,35,39,19,28,30,31,23,21,39,23,32,25,28,36,19,23,17,21,30,27,32,27,22,19,22,28,28,24,32,22,37,21,30,30,23,29,29,\n",
    "18,40,33,27,25,26,22,29,27,30,29,30,25,28,24,23,17,19,36,18,29,22,25,20,20,34,32,21,21,25]"
   ]
  },
  {
   "cell_type": "markdown",
   "metadata": {
    "collapsed": false
   },
   "source": [
   ]
  },
  {
   "cell_type": "code",
   "execution_count": 0,
   "metadata": {
    "collapsed": false
   },
   "outputs": [
   ],
   "source": [
   ]
  },
  {
   "cell_type": "code",
   "execution_count": 2,
   "metadata": {
    "collapsed": false
   },
   "outputs": [
    {
     "name": "stdout",
     "output_type": "stream",
     "text": [
      "14.25\n"
     ]
    }
   ],
   "source": [
    "#2. \n",
    "seter=[10, 15, 19, 13]\n",
    "import numpy as np\n",
    "setermean=np.mean(seter)\n",
    "print(setermean)"
   ]
  },
  {
   "cell_type": "code",
   "execution_count": 3,
   "metadata": {
    "collapsed": false
   },
   "outputs": [
    {
     "name": "stdout",
     "output_type": "stream",
     "text": [
      "14.0\n"
     ]
    }
   ],
   "source": [
    "setermedian=np.median(seter)\n",
    "print(setermedian)"
   ]
  },
  {
   "cell_type": "code",
   "execution_count": 4,
   "metadata": {
    "collapsed": false
   },
   "outputs": [
    {
     "name": "stdout",
     "output_type": "stream",
     "text": [
      "104.06666666666666\n"
     ]
    }
   ],
   "source": [
    "#3\n",
    "kk=[100, 97, 114, 95, 100, 86, 104, 113, 102, 125, 109, 106, 105, 106, 99]\n",
    "import numpy as np\n",
    "kkmean=np.mean(kk)\n",
    "print(kkmean)"
   ]
  },
  {
   "cell_type": "code",
   "execution_count": 5,
   "metadata": {
    "collapsed": false
   },
   "outputs": [
    {
     "name": "stdout",
     "output_type": "stream",
     "text": [
      "104.0\n"
     ]
    }
   ],
   "source": [
    "kk=[100, 97, 114, 95, 100, 86, 104, 113, 102, 125, 109, 106, 105, 106, 99]\n",
    "import numpy as np\n",
    "kkmedian=np.median(kk)\n",
    "print(kkmedian)"
   ]
  },
  {
   "cell_type": "code",
   "execution_count": 7,
   "metadata": {
    "collapsed": false
   },
   "outputs": [
   ],
   "source": [
    "%matplotlib inline\n",
    "import matplotlib as mat\n",
    "import seaborn as sns"
   ]
  },
  {
   "cell_type": "code",
   "execution_count": 8,
   "metadata": {
    "collapsed": false
   },
   "outputs": [
    {
     "data": {
      "text/plain": [
       "<seaborn.axisgrid.FacetGrid at 0x7f065a1bdfd0>"
      ]
     },
     "execution_count": 8,
     "metadata": {
     },
     "output_type": "execute_result"
    },
    {
     "data": {
      "image/png": "[encoded data removed]",
      "text/plain": "<Figure size 360x360 with 1 Axes>"
     },
     "metadata": {
      "image/png": {
       "height": 365,
       "width": 352
      },
      "needs_background": "light"
     },
     "output_type": "execute_result"
    }
   ],
   "source": [
    "k=sns.displot(data=kk)\n",
    "k.set(xlabel=\"x\", ylabel=\"y\")"
   ]
  },
  {
   "cell_type": "code",
   "execution_count": 0,
   "metadata": {
    "collapsed": false
   },
   "outputs": [
   ],
   "source": [
    "#4. d, c, B, A \n",
    "# A2, B3, C4, D1"
   ]
  },
  {
   "cell_type": "code",
   "execution_count": 9,
   "metadata": {
    "collapsed": false
   },
   "outputs": [
   ],
   "source": [
    "#5\n",
    "ages1980 = [23,32,20,27,28,20,29,25,19,19,19,27,27,25,24,18,17,20,22,17,22,20,19,23,16,20,20,15,17,15,15,19,21,25,17,28,18,23,24,24,20,24,23,28,33,25,25,21,24,20,21,25,17,21,24,29,34,22,20,23,23,16,22,24,23,16,22,20,17,27,23,21,16,19,29,25,23,16,19,21,26,26,26,31,17,20,18,21,22,27,30,16,17,21,26,16,31,22,30,21,24,22,23,22,26,27,24,28,27,20,21,20,22,21,33,22,18,28,19,24,26,18,22,14,23,19,17,18,23,29,25,28,18,32,19,21,25,18,18,19,18,23,24,18,21,21,26,26,18,25,19,27,21,27,20,27,19,19,36,22,29,19,26,20,17,17,20,19,25,21,28,31,17,18,29,24,26,19,19,23,16,30,18,28,18,20,31,24,26,22,32,25,18,22,30,19,35,20,15,30]"
   ]
  },
  {
   "cell_type": "code",
   "execution_count": 10,
   "metadata": {
    "collapsed": false
   },
   "outputs": [
   ],
   "source": [
    "%matplotlib inline\n",
    "import matplotlib as mat\n",
    "import seaborn as sns"
   ]
  },
  {
   "cell_type": "code",
   "execution_count": 11,
   "metadata": {
    "collapsed": false
   },
   "outputs": [
    {
     "data": {
      "text/plain": [
       "<AxesSubplot:>"
      ]
     },
     "execution_count": 11,
     "metadata": {
     },
     "output_type": "execute_result"
    },
    {
     "data": {
      "image/png": "[encoded data removed]",
      "text/plain": "<Figure size 432x288 with 1 Axes>"
     },
     "metadata": {
      "image/png": {
       "height": 248,
       "width": 369
      },
      "needs_background": "light"
     },
     "output_type": "execute_result"
    }
   ],
   "source": [
    "sns.stripplot(data=ages1980, orient=\"vertical\")"
   ]
  },
  {
   "cell_type": "code",
   "execution_count": 12,
   "metadata": {
    "collapsed": false
   },
   "outputs": [
    {
     "data": {
      "text/plain": [
       "[Text(0.5, 0, 'age'), Text(0, 0.5, 'count')]"
      ]
     },
     "execution_count": 12,
     "metadata": {
     },
     "output_type": "execute_result"
    },
    {
     "data": {
      "image/png": "[encoded data removed]",
      "text/plain": "<Figure size 432x288 with 1 Axes>"
     },
     "metadata": {
      "image/png": {
       "height": 261,
       "width": 382
      },
      "needs_background": "light"
     },
     "output_type": "execute_result"
    }
   ],
   "source": [
    "p=sns.stripplot(data=ages1980, orient=\"vertical\")\n",
    "p.set(xlabel=\"age\", ylabel=\"count\")"
   ]
  },
  {
   "cell_type": "code",
   "execution_count": 13,
   "metadata": {
    "collapsed": false
   },
   "outputs": [
    {
     "data": {
      "text/plain": [
       "[Text(0.5, 0, 'age'), Text(0, 0.5, 'count')]"
      ]
     },
     "execution_count": 13,
     "metadata": {
     },
     "output_type": "execute_result"
    },
    {
     "data": {
      "image/png": "[encoded data removed]",
      "text/plain": "<Figure size 432x288 with 1 Axes>"
     },
     "metadata": {
      "image/png": {
       "height": 261,
       "width": 382
      },
      "needs_background": "light"
     },
     "output_type": "execute_result"
    }
   ],
   "source": [
    "q=sns.swarmplot(data=ages1980)\n",
    "q.set(xlabel=\"age\", ylabel=\"count\")"
   ]
  },
  {
   "cell_type": "code",
   "execution_count": 14,
   "metadata": {
    "collapsed": false
   },
   "outputs": [
    {
     "data": {
      "text/plain": [
       "<seaborn.axisgrid.FacetGrid at 0x7f0651fd7d60>"
      ]
     },
     "execution_count": 14,
     "metadata": {
     },
     "output_type": "execute_result"
    },
    {
     "data": {
      "image/png": "[encoded data removed]",
      "text/plain": "<Figure size 360x360 with 1 Axes>"
     },
     "metadata": {
      "image/png": {
       "height": 365,
       "width": 352
      },
      "needs_background": "light"
     },
     "output_type": "execute_result"
    }
   ],
   "source": [
    "k=sns.displot(data=ages1980)\n",
    "k.set(xlabel=\"age\", ylabel=\"count\")"
   ]
  },
  {
   "cell_type": "code",
   "execution_count": 15,
   "metadata": {
    "collapsed": false
   },
   "outputs": [
    {
     "data": {
      "text/plain": [
       "[Text(0.5, 0, 'age'), Text(0, 0.5, 'count')]"
      ]
     },
     "execution_count": 15,
     "metadata": {
     },
     "output_type": "execute_result"
    },
    {
     "data": {
      "image/png": "[encoded data removed]",
      "text/plain": "<Figure size 432x288 with 1 Axes>"
     },
     "metadata": {
      "image/png": {
       "height": 261,
       "width": 382
      },
      "needs_background": "light"
     },
     "output_type": "execute_result"
    }
   ],
   "source": [
    "g=sns.violinplot(data=ages1980, color=\"green\", orient=\"vertical\")\n",
    "g.set(xlabel=\"age\", ylabel=\"count\")"
   ]
  },
  {
   "cell_type": "code",
   "execution_count": 16,
   "metadata": {
    "collapsed": false
   },
   "outputs": [
    {
     "name": "stdout",
     "output_type": "stream",
     "text": [
      "22.55\n",
      "22.0\n"
     ]
    }
   ],
   "source": [
    "ages1980mean=np.mean(ages1980)\n",
    "print(ages1980mean)\n",
    "\n",
    "ages1980median=np.median(ages1980)\n",
    "print(ages1980median)"
   ]
  },
  {
   "cell_type": "code",
   "execution_count": 0,
   "metadata": {
    "collapsed": false
   },
   "outputs": [
   ],
   "source": [
    "#Due to the slightly right skewed graph it is best to use the median as a central tendency any to use any plot other than the dot plot such as the histogram. In this case, the histogram will serve as a good visual that shows the tail of the graph. The reason to choosing the histogram would be due to readability. They are the more easily understood than the other grapghs and would work best for more audiences."
   ]
  },
  {
   "cell_type": "code",
   "execution_count": 0,
   "metadata": {
    "collapsed": false
   },
   "outputs": [
   ],
   "source": [
    "Modality; "
   ]
  },
  {
   "cell_type": "code",
   "execution_count": 0,
   "metadata": {
    "collapsed": false
   },
   "outputs": [
   ],
   "source": [
    "ages2016 = [21,29,41,23,35,16,18,19,26,29,33,19,18,28,21,18,24,31,37,31,27,36,26,23,34,25,22,33,27,26,26,30,32,20,28,20,24,20,22,33,24,20,19,23,19,28,34,33,19,38,31,16,38,19,22,25,31,26,34,21,20,30,27,20,29,14,18,30,31,17,36,33,32,32,19,29,35,28,22,27,34,29,28,22,20,29,33,22,25,26,26,31,30,26,37,34,27,20,21,25,32,18,28,27,35,31,31,26,25,24,30,15,28,26,17,35,27,24,23,20,24,21,31,18,29,24,27,28,20,21,21,32,23,35,39,19,28,30,31,23,21,39,23,32,25,28,36,19,23,17,21,30,27,32,27,22,19,22,28,28,24,32,22,37,21,30,30,23,29,29,\n",
    "18,40,33,27,25,26,22,29,27,30,29,30,25,28,24,23,17,19,36,18,29,22,25,20,20,34,32,21,21,25]"
   ]
  },
  {
   "cell_type": "code",
   "execution_count": 17,
   "metadata": {
    "collapsed": false
   },
   "outputs": [
    {
     "data": {
      "text/plain": [
       "<AxesSubplot:>"
      ]
     },
     "execution_count": 17,
     "metadata": {
     },
     "output_type": "execute_result"
    },
    {
     "data": {
      "image/png": "[encoded data removed]",
      "text/plain": "<Figure size 432x288 with 1 Axes>"
     },
     "metadata": {
      "image/png": {
       "height": 248,
       "width": 369
      },
      "needs_background": "light"
     },
     "output_type": "execute_result"
    }
   ],
   "source": [
    "sns.stripplot(data=ages2016, orient=\"vertical\")"
   ]
  },
  {
   "cell_type": "code",
   "execution_count": 18,
   "metadata": {
    "collapsed": false
   },
   "outputs": [
    {
     "data": {
      "text/plain": [
       "[Text(0.5, 0, 'age'), Text(0, 0.5, 'count')]"
      ]
     },
     "execution_count": 18,
     "metadata": {
     },
     "output_type": "execute_result"
    },
    {
     "data": {
      "image/png": "[encoded data removed]",
      "text/plain": "<Figure size 432x288 with 1 Axes>"
     },
     "metadata": {
      "image/png": {
       "height": 261,
       "width": 382
      },
      "needs_background": "light"
     },
     "output_type": "execute_result"
    }
   ],
   "source": [
    "l=sns.stripplot(data=ages2016, orient=\"vertical\")\n",
    "l.set(xlabel=\"age\", ylabel=\"count\")"
   ]
  },
  {
   "cell_type": "code",
   "execution_count": 19,
   "metadata": {
    "collapsed": false
   },
   "outputs": [
    {
     "data": {
      "text/plain": [
       "[Text(0.5, 0, 'age'), Text(0, 0.5, 'count')]"
      ]
     },
     "execution_count": 19,
     "metadata": {
     },
     "output_type": "execute_result"
    },
    {
     "data": {
      "image/png": "[encoded data removed]",
      "text/plain": "<Figure size 432x288 with 1 Axes>"
     },
     "metadata": {
      "image/png": {
       "height": 261,
       "width": 382
      },
      "needs_background": "light"
     },
     "output_type": "execute_result"
    }
   ],
   "source": [
    "m=sns.swarmplot(data=ages2016)\n",
    "m.set(xlabel=\"age\", ylabel=\"count\")"
   ]
  },
  {
   "cell_type": "code",
   "execution_count": 20,
   "metadata": {
    "collapsed": false
   },
   "outputs": [
    {
     "data": {
      "text/plain": [
       "<seaborn.axisgrid.FacetGrid at 0x7f0651bec6a0>"
      ]
     },
     "execution_count": 20,
     "metadata": {
     },
     "output_type": "execute_result"
    },
    {
     "data": {
      "image/png": "[encoded data removed]",
      "text/plain": "<Figure size 360x360 with 1 Axes>"
     },
     "metadata": {
      "image/png": {
       "height": 365,
       "width": 352
      },
      "needs_background": "light"
     },
     "output_type": "execute_result"
    }
   ],
   "source": [
    "n=sns.displot(data=ages2016)\n",
    "n.set(xlabel=\"age\", ylabel=\"count\")"
   ]
  },
  {
   "cell_type": "code",
   "execution_count": 21,
   "metadata": {
    "collapsed": false
   },
   "outputs": [
    {
     "data": {
      "text/plain": [
       "[Text(0.5, 0, 'age'), Text(0, 0.5, 'count')]"
      ]
     },
     "execution_count": 21,
     "metadata": {
     },
     "output_type": "execute_result"
    },
    {
     "data": {
      "image/png": "[encoded data removed]",
      "text/plain": "<Figure size 432x288 with 1 Axes>"
     },
     "metadata": {
      "image/png": {
       "height": 261,
       "width": 382
      },
      "needs_background": "light"
     },
     "output_type": "execute_result"
    }
   ],
   "source": [
    "b=sns.violinplot(data=ages2016, color=\"green\", orient=\"vertical\")\n",
    "b.set(xlabel=\"age\", ylabel=\"count\")"
   ]
  },
  {
   "cell_type": "code",
   "execution_count": 22,
   "metadata": {
    "collapsed": false
   },
   "outputs": [
    {
     "name": "stdout",
     "output_type": "stream",
     "text": [
      "26.31\n",
      "26.0\n"
     ]
    }
   ],
   "source": [
    "ages2016mean=np.mean(ages2016)\n",
    "print(ages2016mean)\n",
    "\n",
    "ages2016median=np.median(ages2016)\n",
    "print(ages2016median)"
   ]
  },
  {
   "cell_type": "code",
   "execution_count": 0,
   "metadata": {
    "collapsed": false
   },
   "outputs": [
   ],
   "source": [
    "#Since we cannot realy on the mean due to it being bimodal and having a tail. The only acceptable central tendency would have to be the median. This can be seen with the his"
   ]
  },
  {
   "cell_type": "code",
   "execution_count": 0,
   "metadata": {
    "collapsed": false
   },
   "outputs": [
   ],
   "source": [
    "#Due to the fact it is both bimodal and skewed I would represent it using a violin plot that will disaplay the nodes and a histogram which will make the readbility more clear to mkae it easier to see the tail \n",
    "#Modality: Bimodal\n",
    "#Skewed: slightly right skewed"
   ]
  }
 ],
 "metadata": {
  "kernelspec": {
   "display_name": "Python 3 (system-wide)",
   "language": "python",
   "metadata": {
    "cocalc": {
     "description": "Python 3 programming language",
     "priority": 100,
     "url": "https://www.python.org/"
    }
   },
   "name": "python3",
   "resource_dir": "/ext/jupyter/kernels/python3"
  },
  "language_info": {
   "codemirror_mode": {
    "name": "ipython",
    "version": 3
   },
   "file_extension": ".py",
   "mimetype": "text/x-python",
   "name": "python",
   "nbconvert_exporter": "python",
   "pygments_lexer": "ipython3",
   "version": "3.8.10"
  }
 },
 "nbformat": 4,
 "nbformat_minor": 4
}